{
 "cells": [
  {
   "cell_type": "code",
   "execution_count": 1,
   "metadata": {
    "collapsed": true
   },
   "outputs": [],
   "source": [
    "import numpy as np \n",
    "%matplotlib inline \n",
    "import matplotlib.pyplot as plt\n",
    "plt.style.use('ggplot')\n",
    "plt.rcParams['figure.figsize']= (16,10)"
   ]
  },
  {
   "cell_type": "code",
   "execution_count": 2,
   "metadata": {
    "collapsed": false
   },
   "outputs": [
    {
     "data": {
      "text/latex": [
       "$$ h (x) = Mx + C\\\\$$"
      ],
      "text/plain": [
       "<IPython.core.display.Latex object>"
      ]
     },
     "metadata": {},
     "output_type": "display_data"
    }
   ],
   "source": [
    "\n",
    "%%latex\n",
    "$$ h (x) = Mx + C\\\\$$"
   ]
  },
  {
   "cell_type": "markdown",
   "metadata": {},
   "source": [
    "h(x) is the hypothesis function. corresponding to the predicted value"
   ]
  },
  {
   "cell_type": "markdown",
   "metadata": {},
   "source": [
    "# Cost Function "
   ]
  },
  {
   "cell_type": "code",
   "execution_count": 3,
   "metadata": {
    "collapsed": false
   },
   "outputs": [
    {
     "data": {
      "text/latex": [
       "$$J(M,C)=\\frac{1}{2m}\\sum_{i=1}^{m}\\left({h(x)}^{(i)}-y^{(i)}\\right)^2 \\\\\n",
       "M- number\\quad of\\quad training \\quad\\ examples \\\\\n",
       "y - Target\\\\\n",
       "C - constant \n",
       "$$"
      ],
      "text/plain": [
       "<IPython.core.display.Latex object>"
      ]
     },
     "metadata": {},
     "output_type": "display_data"
    }
   ],
   "source": [
    "%%latex\n",
    "$$J(M,C)=\\frac{1}{2m}\\sum_{i=1}^{m}\\left({h(x)}^{(i)}-y^{(i)}\\right)^2 \\\\\n",
    "M- number\\quad of\\quad training \\quad\\ examples \\\\\n",
    "y - Target\\\\\n",
    "C - constant \n",
    "$$\n"
   ]
  },
  {
   "cell_type": "markdown",
   "metadata": {},
   "source": [
    "## Gradient Descent Update"
   ]
  },
  {
   "cell_type": "code",
   "execution_count": 4,
   "metadata": {
    "collapsed": false
   },
   "outputs": [
    {
     "data": {
      "text/latex": [
       "$$\n",
       "M:= M-\\alpha\\frac{\\partial}{\\partial M}{J}\\\\\n",
       "C:= C-\\alpha\\frac{\\partial}{\\partial C}{J}\n",
       "$$"
      ],
      "text/plain": [
       "<IPython.core.display.Latex object>"
      ]
     },
     "metadata": {},
     "output_type": "display_data"
    }
   ],
   "source": [
    "%%latex\n",
    "$$\n",
    "M:= M-\\alpha\\frac{\\partial}{\\partial M}{J}\\\\\n",
    "C:= C-\\alpha\\frac{\\partial}{\\partial C}{J}\n",
    "$$"
   ]
  },
  {
   "cell_type": "code",
   "execution_count": 5,
   "metadata": {
    "collapsed": false
   },
   "outputs": [
    {
     "data": {
      "text/latex": [
       "$$\n",
       "\\alpha\\frac{\\partial}{\\partial M}{J} = \\frac{1}{m}\\sum_{i=1}^{m}\\big({h(x)}-y\\big) * x\\\\\n",
       "\\alpha\\frac{\\partial}{\\partial C}{J} = \\frac{1}{m}\\sum_{i=1}^{m}\\big({h(x)}-y\\big)\\\\\n",
       "$$"
      ],
      "text/plain": [
       "<IPython.core.display.Latex object>"
      ]
     },
     "metadata": {},
     "output_type": "display_data"
    }
   ],
   "source": [
    "%%latex\n",
    "$$\n",
    "\\alpha\\frac{\\partial}{\\partial M}{J} = \\frac{1}{m}\\sum_{i=1}^{m}\\big({h(x)}-y\\big) * x\\\\\n",
    "\\alpha\\frac{\\partial}{\\partial C}{J} = \\frac{1}{m}\\sum_{i=1}^{m}\\big({h(x)}-y\\big)\\\\\n",
    "$$"
   ]
  },
  {
   "cell_type": "markdown",
   "metadata": {},
   "source": [
    "## Training Data"
   ]
  },
  {
   "cell_type": "code",
   "execution_count": 6,
   "metadata": {
    "collapsed": true
   },
   "outputs": [],
   "source": [
    "def training_data():\n",
    "    X, y = [],[]\n",
    "    with open('../../data/train.csv','r') as data:\n",
    "        all_lines = data.readlines()[1:]\n",
    "        for line in all_lines:\n",
    "            X_y = line.split(',')\n",
    "            X.append(X_y[4].strip())\n",
    "            y.append(X_y[-1].strip())\n",
    "    return np.array(X,dtype=np.float64) ,np.array(y,dtype=np.float64)"
   ]
  },
  {
   "cell_type": "code",
   "execution_count": 7,
   "metadata": {
    "collapsed": true
   },
   "outputs": [],
   "source": [
    "def predictions(c,m,x):\n",
    "    return c + (m*x)"
   ]
  },
  {
   "cell_type": "code",
   "execution_count": 8,
   "metadata": {
    "collapsed": false
   },
   "outputs": [],
   "source": [
    "def mean_squared_error(target,model_prediction):\n",
    "    return ((1./2*len(target))*sum((target-model_prediction)**2))"
   ]
  },
  {
   "cell_type": "code",
   "execution_count": 9,
   "metadata": {
    "collapsed": true
   },
   "outputs": [],
   "source": [
    "def loss_wrt_c(target,model_predictions):\n",
    "    return sum(model_predictions-target)*(1./len(target))"
   ]
  },
  {
   "cell_type": "code",
   "execution_count": 10,
   "metadata": {
    "collapsed": true
   },
   "outputs": [],
   "source": [
    "def loss_wrt_m(target,model_predictions,x_):\n",
    "    return sum((model_predictions-target)*x_)*(1./len(target))\n",
    "    "
   ]
  },
  {
   "cell_type": "code",
   "execution_count": 11,
   "metadata": {
    "collapsed": true
   },
   "outputs": [],
   "source": [
    "def min_max(x_):\n",
    "    return (x_-min(x_))/(max(x_)-min(x_))"
   ]
  },
  {
   "cell_type": "code",
   "execution_count": 50,
   "metadata": {
    "collapsed": true
   },
   "outputs": [],
   "source": [
    "x,y = training_data()\n"
   ]
  },
  {
   "cell_type": "code",
   "execution_count": 51,
   "metadata": {
    "collapsed": false
   },
   "outputs": [],
   "source": [
    " x, y = min_max(np.c_[x]), np.c_[y]"
   ]
  },
  {
   "cell_type": "code",
   "execution_count": 54,
   "metadata": {
    "collapsed": true
   },
   "outputs": [],
   "source": [
    "m = 1\n",
    "c = 1\n",
    "learning_rate = 0.1\n",
    "iteration = 0\n",
    "epsilon = 1e-5\n",
    "errors = []"
   ]
  },
  {
   "cell_type": "code",
   "execution_count": 55,
   "metadata": {
    "collapsed": false
   },
   "outputs": [
    {
     "name": "stdout",
     "output_type": "stream",
     "text": [
      "ITER:  0 LOSS:  4.16076471755e+16 878.130689848 18093.015281\n",
      "ITER:  2000 LOSS:  6.44342595537e+15 163372.220784 173909.859874\n",
      "ITER:  4000 LOSS:  6.33339254829e+15 264082.551436 169561.782627\n",
      "ITER:  6000 LOSS:  6.28722464673e+15 329317.72304 166745.313219\n",
      "ITER:  8000 LOSS:  6.26785348309e+15 371573.841023 164920.943624\n",
      "ITER:  10000 LOSS:  6.25972571535e+15 398945.264491 163739.207224\n",
      "ITER:  12000 LOSS:  6.25631546031e+15 416675.11897 162973.736826\n",
      "ITER:  14000 LOSS:  6.25488458288e+15 428159.641878 162477.902958\n",
      "ITER:  16000 LOSS:  6.25428421423e+15 435598.747855 162156.7263\n",
      "ITER:  18000 LOSS:  6.25403231109e+15 440417.432809 161948.683945\n",
      "ITER:  20000 LOSS:  6.25392661737e+15 443538.738616 161813.924395\n",
      "ITER:  22000 LOSS:  6.25388227032e+15 445560.566154 161726.633824\n",
      "ITER:  24000 LOSS:  6.25386366316e+15 446870.206045 161670.091309\n",
      "ITER:  26000 LOSS:  6.25385585594e+15 447718.525998 161633.465864\n",
      "ITER:  28000 LOSS:  6.25385258019e+15 448268.025711 161609.741712\n"
     ]
    }
   ],
   "source": [
    "for _ in range(30000):\n",
    "    yhat = predictions(c,m,X)\n",
    "    error = mean_squared_error(y,yhat)\n",
    "    derivative_c = loss_wrt_c(y,yhat)\n",
    "    derivative_m = loss_wrt_m(y,yhat,X)\n",
    "    c = c - (learning_rate*derivative_c)\n",
    "    m = m - (learning_rate*derivative_m)\n",
    "    errors.append(error)\n",
    "    if iteration%2000 ==0:\n",
    "        print('ITER: ',iteration,'LOSS: ',error[0],m[0],c[0])\n",
    "    iteration+=1"
   ]
  },
  {
   "cell_type": "code",
   "execution_count": 56,
   "metadata": {
    "collapsed": false
   },
   "outputs": [
    {
     "data": {
      "text/plain": [
       "array([ 161594.38051547])"
      ]
     },
     "execution_count": 56,
     "metadata": {},
     "output_type": "execute_result"
    }
   ],
   "source": [
    "c"
   ]
  },
  {
   "cell_type": "code",
   "execution_count": 57,
   "metadata": {
    "collapsed": false
   },
   "outputs": [
    {
     "data": {
      "text/plain": [
       "array([ 448623.82231784])"
      ]
     },
     "execution_count": 57,
     "metadata": {},
     "output_type": "execute_result"
    }
   ],
   "source": [
    "m"
   ]
  },
  {
   "cell_type": "code",
   "execution_count": 62,
   "metadata": {
    "collapsed": false
   },
   "outputs": [
    {
     "data": {
      "image/png": "[encoded data removed]",
      "text/plain": [
       "<matplotlib.figure.Figure at 0x7fa5399e0c88>"
      ]
     },
     "metadata": {},
     "output_type": "display_data"
    }
   ],
   "source": [
    "plt.plot(list(range(30000)),np.array(errors))\n",
    "plt.title('LOSS VS ITERATION')\n",
    "plt.show()"
   ]
  },
  {
   "cell_type": "code",
   "execution_count": 59,
   "metadata": {
    "collapsed": false
   },
   "outputs": [
    {
     "data": {
      "image/png": "[encoded data removed]",
      "text/plain": [
       "<matplotlib.figure.Figure at 0x7fa539b05278>"
      ]
     },
     "metadata": {},
     "output_type": "display_data"
    }
   ],
   "source": [
    "plt.scatter(x,y)\n",
    "plt.plot(x,predictions(c,m,x))\n",
    "plt.title('LINEAR MODEL')\n",
    "plt.show()"
   ]
  },
  {
   "cell_type": "code",
   "execution_count": null,
   "metadata": {
    "collapsed": true
   },
   "outputs": [],
   "source": []
  }
 ],
 "metadata": {
  "kernelspec": {
   "display_name": "Python 3",
   "language": "python",
   "name": "python3"
  },
  "language_info": {
   "codemirror_mode": {
    "name": "ipython",
    "version": 3
   },
   "file_extension": ".py",
   "mimetype": "text/x-python",
   "name": "python",
   "nbconvert_exporter": "python",
   "pygments_lexer": "ipython3",
   "version": "3.6.0"
  }
 },
 "nbformat": 4,
 "nbformat_minor": 2
}
