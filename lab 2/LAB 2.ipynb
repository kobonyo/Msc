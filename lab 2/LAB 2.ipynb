{
 "cells": [
  {
   "cell_type": "code",
   "execution_count": 56,
   "metadata": {
    "collapsed": true
   },
   "outputs": [],
   "source": [
    "import random \n",
    "import math \n",
    "%matplotlib inline\n",
    "from matplotlib import pyplot as plt\n",
    "plt.rcParams['figure.figsize'] = (10.0, 8.0)"
   ]
  },
  {
   "cell_type": "code",
   "execution_count": 63,
   "metadata": {
    "collapsed": true
   },
   "outputs": [],
   "source": [
    "months = ['JAN','FEB','MAR','APR','MAY','JUNE','JULY','AUG','SEPT','OCT','NOV','DEC']"
   ]
  },
  {
   "cell_type": "code",
   "execution_count": 69,
   "metadata": {
    "collapsed": true
   },
   "outputs": [],
   "source": [
    "# random monthly temp values\n",
    "monthly_temprature = {}\n",
    "for val in months:\n",
    "    monthly_temprature[val] = random.sample(range(50),30)"
   ]
  },
  {
   "cell_type": "code",
   "execution_count": 70,
   "metadata": {
    "collapsed": true
   },
   "outputs": [],
   "source": [
    "#function to calculate sum \n",
    "\n",
    "def calculate_sum(values):\n",
    "    sum_ = 0\n",
    "    for i in range(len(values)):\n",
    "        sum_+= values[i]\n",
    "    return sum_      "
   ]
  },
  {
   "cell_type": "code",
   "execution_count": 71,
   "metadata": {
    "collapsed": true
   },
   "outputs": [],
   "source": [
    "#function to calculate mean \n",
    "def calculate_mean(values):\n",
    "    sum_ = 0\n",
    "    for i in range(len(values)):\n",
    "        sum_+= values[i]\n",
    "    return sum_/len(values)  "
   ]
  },
  {
   "cell_type": "code",
   "execution_count": 72,
   "metadata": {
    "collapsed": true
   },
   "outputs": [],
   "source": [
    "#fucnction to calculate std\n",
    "\n",
    "def getStd(monthlyVals):\n",
    "    m_std = {}\n",
    "    for amonth in months:\n",
    "        variance = []\n",
    "        mean = calculate_mean(monthlyVals[amonth])\n",
    "        for temp  in month_temprature[amonth]:\n",
    "            variance.append((mean-temp)**2)\n",
    "        m_std[amonth] = math.sqrt(calculate_sum(variance)/(30-1))\n",
    "        variance = []\n",
    "    return m_std"
   ]
  },
  {
   "cell_type": "code",
   "execution_count": 74,
   "metadata": {
    "collapsed": false
   },
   "outputs": [],
   "source": [
    "# monthly std\n",
    "monthlystd = getStd(monthly_temprature)"
   ]
  },
  {
   "cell_type": "code",
   "execution_count": 77,
   "metadata": {
    "collapsed": false
   },
   "outputs": [
    {
     "data": {
      "image/png": "[encoded data removed]",
      "text/plain": [
       "<matplotlib.figure.Figure at 0x7f4759797da0>"
      ]
     },
     "metadata": {},
     "output_type": "display_data"
    }
   ],
   "source": [
    "# scatter plot for monthly std\n",
    "\n",
    "x = list(monthlystd.values())\n",
    "y = list(monthlystd.keys())\n",
    "plt.scatter(list(range(1,len(y)+1)),x)\n",
    "plt.ylabel('Standard Deviation')\n",
    "plt.xlabel('Month of the year(JAN-DEC)')\n",
    "plt.title('MONTHLY STD')\n",
    "plt.show()"
   ]
  },
  {
   "cell_type": "code",
   "execution_count": null,
   "metadata": {
    "collapsed": true
   },
   "outputs": [],
   "source": []
  }
 ],
 "metadata": {
  "kernelspec": {
   "display_name": "Python 3",
   "language": "python",
   "name": "python3"
  },
  "language_info": {
   "codemirror_mode": {
    "name": "ipython",
    "version": 3
   },
   "file_extension": ".py",
   "mimetype": "text/x-python",
   "name": "python",
   "nbconvert_exporter": "python",
   "pygments_lexer": "ipython3",
   "version": "3.6.0"
  }
 },
 "nbformat": 4,
 "nbformat_minor": 2
}
